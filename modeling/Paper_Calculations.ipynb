{
 "cells": [
  {
   "cell_type": "code",
   "execution_count": 5,
   "id": "d5a00e07-21e3-4824-a06e-fc7045a387ab",
   "metadata": {},
   "outputs": [
    {
     "name": "stderr",
     "output_type": "stream",
     "text": [
      "2025-02-05 15:39:28,637 - WARNING - File .dacerc not found. You are requesting data in public mode. To change this behaviour, create a .dacerc file in your home directory and fill it with your API key. More infos on https://dace.unige.ch\n"
     ]
    },
    {
     "data": {
      "application/vnd.jupyter.widget-view+json": {
       "model_id": "0028a3f244bc4e9b8f1e7cd2eabf1fa0",
       "version_major": 2,
       "version_minor": 0
      },
      "text/plain": [
       "  0%|          | 0/2 [00:00<?, ?it/s]"
      ]
     },
     "metadata": {},
     "output_type": "display_data"
    }
   ],
   "source": [
    "from preamble import *"
   ]
  },
  {
   "cell_type": "code",
   "execution_count": null,
   "id": "731676e8-65f7-4618-a8e6-b7176984d7b8",
   "metadata": {},
   "outputs": [],
   "source": [
    "def scale_height(T = 600 * u.K,\n",
    "                 mmw = 10,\n",
    "                 Mp = 10.2*u.M_earth,\n",
    "                 Rp = 3.8*u.R_earth,\n",
    "                 Rs = 0.8 *u.R_sun):\n",
    "\n",
    "    g_p = ((c.G * Mp)/(Rp**2)).decompose()\n",
    "    H = ( (c.k_B * T) / (mmw*u.M_p * g_p) ).decompose()\n",
    "    delta_D_transmission = ((5 * 2 * Rp * H) / Rs**2).decompose()\n",
    "\n",
    "    onescaleheight = (H+Rp).decompose()\n",
    "    depth_one_H = ( (onescaleheight/Rs)**2 ).decompose() - (Rp**2/Rs**2).decompose()\n",
    "    \n",
    "    return H, delta_D_transmission, depth_one_H"
   ]
  },
  {
   "cell_type": "code",
   "execution_count": 2,
   "id": "8fdab508-c33c-429a-a46a-18e22ca6aecb",
   "metadata": {},
   "outputs": [],
   "source": [
    "# the expected signal of transmission is about 5H or 5*2*RpH/R*2 - Seager+ 2009"
   ]
  },
  {
   "cell_type": "code",
   "execution_count": null,
   "id": "d58c2b79-d366-4dae-8b05-8d81bdf30b6b",
   "metadata": {},
   "outputs": [],
   "source": [
    "download_molecule(\n",
    "    molecule_name='CO',\n",
    "    temperature_range=[400, 1200],\n",
    "    pressure_range=[-7, 2]\n",
    ")"
   ]
  },
  {
   "cell_type": "code",
   "execution_count": null,
   "id": "a44038ac-69ea-4d45-88eb-ecdbbba4f74b",
   "metadata": {},
   "outputs": [],
   "source": [
    "download_molecule(\n",
    "    molecule_name='NH3',\n",
    "    temperature_range=[400, 1200],\n",
    "    pressure_range=[-7, 2]\n",
    ")"
   ]
  },
  {
   "cell_type": "code",
   "execution_count": null,
   "id": "0e8a0f20-9ffa-4a16-89b8-004f2c3d8698",
   "metadata": {},
   "outputs": [],
   "source": [
    "download_molecule(\n",
    "    molecule_name='OH',\n",
    "    temperature_range=[400, 1200],\n",
    "    pressure_range=[-7, 2]\n",
    ")"
   ]
  },
  {
   "cell_type": "code",
   "execution_count": 6,
   "id": "d5b2beca-b8cd-48b2-b013-7d314e131cd8",
   "metadata": {},
   "outputs": [
    {
     "name": "stderr",
     "output_type": "stream",
     "text": [
      "WARNING:root:Using first-found line list for 14N2-16O: 'HITEMP2019'\n",
      "WARNING:root:Using latest version of the line list 'HITEMP2019' for 14N2-16O: 1.0\n",
      "2025-02-05 15:39:51,816 - INFO - Downloading file on location : tmp/14N2-16O__HITEMP2019.tar.gz\n",
      "INFO:dace-d98ab17bb7:Downloading file on location : tmp/14N2-16O__HITEMP2019.tar.gz\n"
     ]
    },
    {
     "name": "stdout",
     "output_type": "stream",
     "text": [
      " Download : 1262 MB\n",
      "Download done\n"
     ]
    },
    {
     "name": "stderr",
     "output_type": "stream",
     "text": [
      "2025-02-05 15:41:21,468 - INFO - File downloaded on location : tmp/14N2-16O__HITEMP2019.tar.gz\n",
      "INFO:dace-d98ab17bb7:File downloaded on location : tmp/14N2-16O__HITEMP2019.tar.gz\n"
     ]
    }
   ],
   "source": [
    "download_molecule(\n",
    "    molecule_name='N2O',\n",
    "    temperature_range=[400, 1200],\n",
    "    pressure_range=[-7, 2]\n",
    ")"
   ]
  },
  {
   "cell_type": "markdown",
   "id": "7ac71337-66e3-4d5d-b0d5-457a1c8c0b77",
   "metadata": {},
   "source": [
    "If I want to model the rotation from the ground, here are the filters and wavelengths:"
   ]
  },
  {
   "cell_type": "code",
   "execution_count": 9,
   "id": "89bafc7b-d89e-40a5-a41e-793fc9da3ce5",
   "metadata": {},
   "outputs": [
    {
     "data": {
      "text/plain": [
       "[[0.41, 0.52], [0.55, 0.67], [0.7, 0.82]]"
      ]
     },
     "execution_count": 9,
     "metadata": {},
     "output_type": "execute_result"
    }
   ],
   "source": [
    "['gp','rp','ip']\n",
    "[[0.41,0.52],[0.55,0.67],[0.7,0.82]]"
   ]
  },
  {
   "cell_type": "code",
   "execution_count": null,
   "id": "73677dec-fc50-41a1-b4d6-873efb3d61d8",
   "metadata": {},
   "outputs": [],
   "source": []
  }
 ],
 "metadata": {
  "kernelspec": {
   "display_name": "Python 3 (ipykernel)",
   "language": "python",
   "name": "python3"
  },
  "language_info": {
   "codemirror_mode": {
    "name": "ipython",
    "version": 3
   },
   "file_extension": ".py",
   "mimetype": "text/x-python",
   "name": "python",
   "nbconvert_exporter": "python",
   "pygments_lexer": "ipython3",
   "version": "3.10.13"
  }
 },
 "nbformat": 4,
 "nbformat_minor": 5
}
