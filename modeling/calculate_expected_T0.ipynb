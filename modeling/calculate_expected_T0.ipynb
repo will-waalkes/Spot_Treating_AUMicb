{
 "cells": [
  {
   "cell_type": "code",
   "execution_count": 1,
   "id": "a9726332-d52b-4f01-94e1-8339b4742d1d",
   "metadata": {},
   "outputs": [],
   "source": [
    "from preamble import *"
   ]
  },
  {
   "cell_type": "code",
   "execution_count": 31,
   "id": "fa4bdac1-d74b-428b-a47c-f01587e5ad46",
   "metadata": {},
   "outputs": [],
   "source": [
    "Torbit = 8.463 * u.day\n",
    "sigma_Torbit = 0.00001 * u.day\n",
    "\n",
    "T0_F21 = 2459455.9 * u.day # +/- 0.0007\n",
    "T0_S22 = 2459684.4 * u.day # +/- 0.02\n",
    "\n",
    "T0_szabo = 2459455.9895 # +/- 0.0007 # It arrived 10 min, or 0.007  days early\n",
    "T0_S22_projected = 2459684.491 # +/- 0.019\n",
    "\n",
    "T0_martioli = 2458330.39051*u.day # +/- 0.00015\n",
    "T0_gilbert = 2458330.39080*u.day # +/- 0.00058\n",
    "T0_wittrock = 2458525.04109*u.day # +/- 0.00052"
   ]
  },
  {
   "cell_type": "code",
   "execution_count": 17,
   "id": "d3ec1972-1395-4488-8b01-fe2649dfd6f0",
   "metadata": {},
   "outputs": [
    {
     "data": {
      "text/plain": [
       "0.057719999999999994"
      ]
     },
     "execution_count": 17,
     "metadata": {},
     "output_type": "execute_result"
    }
   ],
   "source": [
    "111 * 0.00052"
   ]
  },
  {
   "cell_type": "code",
   "execution_count": 23,
   "id": "d8c8636f-888c-4bf6-9978-506d4457f197",
   "metadata": {},
   "outputs": [
    {
     "data": {
      "text/plain": [
       "0.0201"
      ]
     },
     "execution_count": 23,
     "metadata": {},
     "output_type": "execute_result"
    }
   ],
   "source": [
    "134 * 0.00015"
   ]
  },
  {
   "cell_type": "code",
   "execution_count": null,
   "id": "9ee7d100-c623-47ed-bbe4-afe6b4af6d05",
   "metadata": {},
   "outputs": [],
   "source": []
  }
 ],
 "metadata": {
  "kernelspec": {
   "display_name": "Python 3 (ipykernel)",
   "language": "python",
   "name": "python3"
  },
  "language_info": {
   "codemirror_mode": {
    "name": "ipython",
    "version": 3
   },
   "file_extension": ".py",
   "mimetype": "text/x-python",
   "name": "python",
   "nbconvert_exporter": "python",
   "pygments_lexer": "ipython3",
   "version": "3.10.14"
  }
 },
 "nbformat": 4,
 "nbformat_minor": 5
}
