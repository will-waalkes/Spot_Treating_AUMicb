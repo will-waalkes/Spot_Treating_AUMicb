{
 "cells": [
  {
   "cell_type": "code",
   "execution_count": null,
   "id": "6595139b-daed-4ae8-9e58-5556fefe1263",
   "metadata": {},
   "outputs": [],
   "source": [
    "from astropy.time import Time\n",
    "from astropy.coordinates import EarthLocation, solar_system_ephemeris, get_body_barycentric_posvel\n",
    "from astropy.constants import c\n",
    "\n",
    "# Define the observer's location (latitude, longitude, altitude)\n",
    "observer_location = EarthLocation(lat=30.0, lon=-70.0, height=0)  # Example coordinates\n",
    "\n",
    "# Define the Julian Date\n",
    "jd = 2451545.0  # Example Julian Date\n",
    "\n",
    "# Convert JD to astropy Time object\n",
    "time_jd = Time(jd, format='jd', scale='utc')\n",
    "\n",
    "# Use solar system ephemeris to get the position and velocity of the barycenter\n",
    "with solar_system_ephemeris.set('de432s'):\n",
    "    barycenter_pos, barycenter_vel = get_body_barycentric_posvel('earth', time_jd)\n",
    "\n",
    "# Calculate the light travel time from the barycenter to the observer\n",
    "light_travel_time = observer_location.get_gcrs_posvel(time_jd)[0].norm() / c\n",
    "\n",
    "# Calculate the Barycentric Julian Date\n",
    "bjd = time_jd.tdb + light_travel_time\n",
    "\n",
    "print(f\"Julian Date (JD): {jd}\")\n",
    "print(f\"Barycentric Julian Date (BJD): {bjd.jd}\")"
   ]
  }
 ],
 "metadata": {
  "kernelspec": {
   "display_name": "Python 3 (ipykernel)",
   "language": "python",
   "name": "python3"
  },
  "language_info": {
   "codemirror_mode": {
    "name": "ipython",
    "version": 3
   },
   "file_extension": ".py",
   "mimetype": "text/x-python",
   "name": "python",
   "nbconvert_exporter": "python",
   "pygments_lexer": "ipython3",
   "version": "3.10.14"
  }
 },
 "nbformat": 4,
 "nbformat_minor": 5
}
