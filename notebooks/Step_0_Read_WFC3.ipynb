{
 "cells": [
  {
   "cell_type": "markdown",
   "id": "8185f8e3-b5a4-40f6-9018-c0c676f93152",
   "metadata": {},
   "source": [
    "# Step 0: Read in the WFC3 Data\n",
    "In this step we need to read in the .ima files, subtract the first exposure from the last, and sort the exposures by time."
   ]
  },
  {
   "cell_type": "markdown",
   "id": "b6f8f7a0-928e-4f83-9cdc-d8e5267a5c9c",
   "metadata": {},
   "source": [
    "G102 data - From Hannah and Lili's Memo: \"In total there are 320 science frames, 160 in forward scan mode and 160 in reverse scan mode. It is recommended that the first orbit and the first exposure from each orbit be removed leaving ~266 frames in total for the lightcurves.\""
   ]
  },
  {
   "cell_type": "code",
   "execution_count": null,
   "id": "add1df05-9c03-4340-aafd-58cf9308812f",
   "metadata": {},
   "outputs": [],
   "source": [
    "from astropy.io import fits\n",
    "import matplotlib.pyplot as plt\n",
    "import glob\n",
    "import numpy as np"
   ]
  },
  {
   "cell_type": "code",
   "execution_count": null,
   "id": "d9bb4015-d433-4bdd-9695-d191287523ee",
   "metadata": {},
   "outputs": [],
   "source": [
    "data_repo = '../data/MAST_2023-08-19T2316/HST/'"
   ]
  },
  {
   "cell_type": "code",
   "execution_count": null,
   "id": "574e55f8-85c7-4276-b3d8-6c74cc675f9c",
   "metadata": {},
   "outputs": [],
   "source": [
    "G141_exposures = glob.glob(data_repo+'ie*/*ima.fits')\n",
    "G141_data = [None]*len(G141_exposures)\n",
    "G141_times = [None]*len(G141_exposures)"
   ]
  },
  {
   "cell_type": "code",
   "execution_count": null,
   "id": "89c5d4a1-9aff-4b5e-8eeb-64854a9f593d",
   "metadata": {},
   "outputs": [],
   "source": [
    "G102_exposures = glob.glob(data_repo+'oe*/*ima.fits')\n",
    "G102_data = [None]*len(G102_exposures)\n",
    "G102_times = [None]*len(G102_exposures)"
   ]
  },
  {
   "cell_type": "markdown",
   "id": "7b1e7edd-75b2-4471-94ea-e8478443050a",
   "metadata": {},
   "source": [
    "# Notes on file structure"
   ]
  },
  {
   "cell_type": "markdown",
   "id": "186a08f5-f8a6-4c4d-9d85-826d3eb117c0",
   "metadata": {},
   "source": [
    "HDU[0] is the primary header, indices [1] to [-1] are the exposures."
   ]
  },
  {
   "cell_type": "markdown",
   "id": "65b04efb-9b22-4ac2-a7bf-aeac93b27f75",
   "metadata": {},
   "source": [
    "## Example header keywords:\n",
    "\n",
    "DATE-OBS= '2021-08-29'         / UT date of start of observation (yyyy-mm-dd)   \n",
    "\n",
    "TIME-OBS= '04:55:35'           / UT time of start of observation (hh:mm:ss)     \n",
    "\n",
    "EXPSTART=   5.945520527180E+04 / exposure start time (Modified Julian Date)     \n",
    "\n",
    "EXPEND  =   5.945520532958E+04 / exposure end time (Modified Julian Date)       \n",
    "\n",
    "EXPTIME =             4.970405 / exposure duration (seconds)--calculated"
   ]
  },
  {
   "cell_type": "code",
   "execution_count": null,
   "id": "cca11645-d391-403f-bf22-52c0b6a3c9d0",
   "metadata": {},
   "outputs": [],
   "source": [
    "hdul = fits.open(G141_exposures[0]) # This is the fits object of the zeroth file in the globbed array\n",
    "\n",
    "this_exposure_header = hdul[0].header # This is the master header for all exposures recorded in this file\n",
    "this_exposure_flux = hdul[1].data # This is a 2D spectrum in wavelength and time\n",
    "this_time_point = this_exposure_header['EXPSTART'] # The end time of the exposure in MJD\n",
    "plt.imshow(this_exposure_flux)"
   ]
  },
  {
   "cell_type": "code",
   "execution_count": null,
   "id": "f25b0212-1a27-45d6-804a-5a856ccab579",
   "metadata": {},
   "outputs": [],
   "source": [
    "i = 0\n",
    "for _2dspec in G141_exposures:\n",
    "    hdul = fits.open(_2dspec)\n",
    "    MJD_date = hdul[0].header['EXPSTART'] #why is it hdul[0] for this exptime, but hdul[1] for the G102 data?\n",
    "    G141_data[i] = hdul[1].data\n",
    "    G141_times[i] = MJD_date\n",
    "    \n",
    "    i += 1"
   ]
  },
  {
   "cell_type": "code",
   "execution_count": null,
   "id": "4f007c33-d475-4dba-a375-7dcf33d237ec",
   "metadata": {},
   "outputs": [],
   "source": [
    "i = 0\n",
    "for _2dspec in G102_exposures:\n",
    "    hdul = fits.open(_2dspec)\n",
    "    MJD_date = hdul[1].header['EXPSTART']\n",
    "    G102_data[i] = hdul[1].data\n",
    "    G102_times[i] = MJD_date\n",
    "    plt.imshow(hdul[1].data)\n",
    "    plt.show()\n",
    "    plt.close()\n",
    "    \n",
    "    i += 1"
   ]
  },
  {
   "cell_type": "code",
   "execution_count": null,
   "id": "eed2bbb5-d19f-456e-8ffa-c97166b4593b",
   "metadata": {},
   "outputs": [],
   "source": [
    "flt_hdul[0].header"
   ]
  },
  {
   "cell_type": "code",
   "execution_count": null,
   "id": "697a6021-0392-45fc-b624-d4cc91e2857f",
   "metadata": {},
   "outputs": [],
   "source": []
  }
 ],
 "metadata": {
  "kernelspec": {
   "display_name": "Python 3 (ipykernel)",
   "language": "python",
   "name": "python3"
  },
  "language_info": {
   "codemirror_mode": {
    "name": "ipython",
    "version": 3
   },
   "file_extension": ".py",
   "mimetype": "text/x-python",
   "name": "python",
   "nbconvert_exporter": "python",
   "pygments_lexer": "ipython3",
   "version": "3.9.13"
  }
 },
 "nbformat": 4,
 "nbformat_minor": 5
}
