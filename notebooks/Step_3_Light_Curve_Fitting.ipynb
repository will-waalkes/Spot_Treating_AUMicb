{
 "cells": [
  {
   "cell_type": "markdown",
   "id": "b889356d-a214-46dc-b69b-31984ade4125",
   "metadata": {},
   "source": [
    "# Step 3: Fitting Light Curves \n",
    "In this step we will use chromatic_fitting (https://catrionamurray.github.io/chromatic_fitting/tutorial_for_transit_fitting/) to analyze the the transit data in time with discrete wavelength bins"
   ]
  },
  {
   "cell_type": "code",
   "execution_count": null,
   "id": "73117009-1e87-4b87-8cab-8a72fd0fa74c",
   "metadata": {},
   "outputs": [],
   "source": []
  }
 ],
 "metadata": {
  "kernelspec": {
   "display_name": "Python 3 (ipykernel)",
   "language": "python",
   "name": "python3"
  },
  "language_info": {
   "codemirror_mode": {
    "name": "ipython",
    "version": 3
   },
   "file_extension": ".py",
   "mimetype": "text/x-python",
   "name": "python",
   "nbconvert_exporter": "python",
   "pygments_lexer": "ipython3",
   "version": "3.9.13"
  }
 },
 "nbformat": 4,
 "nbformat_minor": 5
}
