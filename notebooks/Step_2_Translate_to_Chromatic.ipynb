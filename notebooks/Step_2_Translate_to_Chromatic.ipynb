{
 "cells": [
  {
   "cell_type": "markdown",
   "id": "f8d4d724-712d-411e-ac17-7b02e4226ec7",
   "metadata": {},
   "source": [
    "# Step 2: Chromatic\n",
    "In this step we will translate the S(w,t) WFC3 spectral data into chromatic-friendly inputs which will then be analyzed by chromatic_fitting (https://catrionamurray.github.io/chromatic_fitting/tutorial_for_transit_fitting/)"
   ]
  },
  {
   "cell_type": "code",
   "execution_count": null,
   "id": "1d1c9e8f-3c56-45e4-9262-04820ee9bdfc",
   "metadata": {},
   "outputs": [],
   "source": []
  }
 ],
 "metadata": {
  "kernelspec": {
   "display_name": "Python 3 (ipykernel)",
   "language": "python",
   "name": "python3"
  },
  "language_info": {
   "codemirror_mode": {
    "name": "ipython",
    "version": 3
   },
   "file_extension": ".py",
   "mimetype": "text/x-python",
   "name": "python",
   "nbconvert_exporter": "python",
   "pygments_lexer": "ipython3",
   "version": "3.9.13"
  }
 },
 "nbformat": 4,
 "nbformat_minor": 5
}
