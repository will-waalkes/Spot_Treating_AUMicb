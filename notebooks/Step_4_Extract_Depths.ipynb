{
 "cells": [
  {
   "cell_type": "markdown",
   "id": "4afaa030-4523-49b2-a9d8-86f113b0a95f",
   "metadata": {},
   "source": [
    "# Step 4: Transit Depths\n",
    "In this step we will take the outputs from the previous step (chromatic fitting) and create a neat little table of transit depths as a function of wavelength, the final step in processing and analyzing the data before inferences are made with spot and atmospheric models."
   ]
  },
  {
   "cell_type": "code",
   "execution_count": null,
   "id": "8a916f60-6632-4705-a97f-18d4138791da",
   "metadata": {},
   "outputs": [],
   "source": []
  }
 ],
 "metadata": {
  "kernelspec": {
   "display_name": "Python 3 (ipykernel)",
   "language": "python",
   "name": "python3"
  },
  "language_info": {
   "codemirror_mode": {
    "name": "ipython",
    "version": 3
   },
   "file_extension": ".py",
   "mimetype": "text/x-python",
   "name": "python",
   "nbconvert_exporter": "python",
   "pygments_lexer": "ipython3",
   "version": "3.9.13"
  }
 },
 "nbformat": 4,
 "nbformat_minor": 5
}
