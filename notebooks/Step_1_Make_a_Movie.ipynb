{
 "cells": [
  {
   "cell_type": "markdown",
   "id": "15979b80-ca3e-4125-b9b1-0dbe7f0a3cae",
   "metadata": {},
   "source": [
    "# Step 1: Make a Movie of WFC3 data in time"
   ]
  },
  {
   "cell_type": "code",
   "execution_count": null,
   "id": "79381e69-ec92-4f3b-826e-4e50a8d52559",
   "metadata": {},
   "outputs": [],
   "source": []
  }
 ],
 "metadata": {
  "kernelspec": {
   "display_name": "Python 3 (ipykernel)",
   "language": "python",
   "name": "python3"
  },
  "language_info": {
   "codemirror_mode": {
    "name": "ipython",
    "version": 3
   },
   "file_extension": ".py",
   "mimetype": "text/x-python",
   "name": "python",
   "nbconvert_exporter": "python",
   "pygments_lexer": "ipython3",
   "version": "3.9.13"
  }
 },
 "nbformat": 4,
 "nbformat_minor": 5
}
