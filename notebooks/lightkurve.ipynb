{
 "cells": [
  {
   "cell_type": "code",
   "execution_count": null,
   "id": "596d74a7-d946-473f-be1d-77d41dfaa361",
   "metadata": {},
   "outputs": [],
   "source": [
    "import scipy.io\n",
    "from chromatic import *\n",
    "from chromatic import plt, u, np\n",
    "import pandas as pd\n",
    "import numpy as np\n",
    "\n",
    "import lightkurve as lk\n",
    "%matplotlib inline"
   ]
  },
  {
   "cell_type": "markdown",
   "id": "a244f95c-3751-4738-8671-2e3bbce2dc63",
   "metadata": {},
   "source": [
    "# Read in the data (extracted from .ima files)"
   ]
  },
  {
   "cell_type": "code",
   "execution_count": null,
   "id": "5d213c23-cb43-4181-884b-0e91ae2836a0",
   "metadata": {},
   "outputs": [],
   "source": [
    "G_102_back_dict = scipy.io.readsav('WFC3_data/G102/Backward_spectra.sav', verbose=False)\n",
    "G_102_for_dict = scipy.io.readsav('WFC3_data/G102/Forward_spectra.sav', verbose=False)\n",
    "G_141_back_dict = scipy.io.readsav('WFC3_data/G141/Backward_spectra.sav', verbose=False)\n",
    "G_141_for_dict = scipy.io.readsav('WFC3_data/G141/Forward_spectra.sav', verbose=False)\n",
    "\n",
    "F21_BJD_times = pd.read_csv('data/F21_bjdtimes.csv')['BJD'][:]\n",
    "S22_BJD_times = pd.read_csv('data/S22_bjdtimes.csv')['BJD'][:]"
   ]
  },
  {
   "cell_type": "markdown",
   "id": "96413401-04ff-41f9-a097-a1eca306d28a",
   "metadata": {},
   "source": [
    "# Initialize dictionaries to organize the data"
   ]
  },
  {
   "cell_type": "code",
   "execution_count": null,
   "id": "6caf0df5-1c1b-4d5c-9e76-68256fe798e3",
   "metadata": {},
   "outputs": [],
   "source": [
    "visits = {\n",
    "    'F21': {\n",
    "        'Grism': 'G141',\n",
    "        'Forward': G_141_for_dict,\n",
    "        'Backward': G_141_back_dict,\n",
    "        'wave_lower': 1.13, # determined by hand\n",
    "        'wave_upper': 1.66,\n",
    "        'time_lower': 2459455.708,\n",
    "        'time_upper': 2459455.737,\n",
    "        'T0 (BJD_TDB)': 2459455.98,\n",
    "        'exp (s)': 4.970405,\n",
    "        'time cutoff': 2459455.77, # for removing the first orbit\n",
    "        'duration': 3.5 * u.hour,\n",
    "        'period': 8.463 * u.day\n",
    "            },\n",
    "    'S22': {\n",
    "        'Grism': 'G102',\n",
    "        'Forward': G_102_for_dict,\n",
    "        'Backward': G_102_back_dict,\n",
    "        'wave_lower': 0.80,\n",
    "        'wave_upper': 1.13,\n",
    "        'time_lower': 2459684.215,\n",
    "        'time_upper': 2459684.242,\n",
    "        'T0 (BJD_TDB)': 2459684.48, # This is 27 planetary orbits after the first transit\n",
    "        'exp (s)': 9.662994, \n",
    "        'time cutoff': 2459684.27, # for removing the first orbit\n",
    "        'duration': 3.5 * u.hour,\n",
    "        'period': 8.463 * u.day\n",
    "    }\n",
    "}"
   ]
  },
  {
   "cell_type": "code",
   "execution_count": null,
   "id": "bc184280-cad1-418a-b219-a69a3d53bb59",
   "metadata": {},
   "outputs": [],
   "source": [
    "search_result = lk.search_lightcurve('AU Mic', mission='TESS')"
   ]
  },
  {
   "cell_type": "code",
   "execution_count": null,
   "id": "e4c01e98-77e7-4282-a186-fa7dba43663b",
   "metadata": {},
   "outputs": [],
   "source": [
    "for visit in ['F21','S22']:\n",
    "    \n",
    "    for direction in ['Backward']:\n",
    "\n",
    "        print(visit,direction)\n",
    "        print('')\n",
    "\n",
    "        if visit == 'S22': \n",
    "            n = 133\n",
    "        if visit == 'F21': \n",
    "            n = 86\n",
    "\n",
    "        # Load data tables\n",
    "        visit_data = visits[f'{visit}']\n",
    "\n",
    "        t0 = visit_data['T0 (BJD_TDB)'] * u.day\n",
    "        trimmed = read_rainbow(f'data/{visit}_{direction}_trimmed.rainbow.npy')\n",
    "\n",
    "        lc = search_result[1].download().bin(time_bin_size=0.005)\n",
    "        lc.time = lc.time + 2457000.0 * u.day\n",
    "        lc.time = lc.time + (n * 4.86 * u.day) #New array which should overlap heavily with the WFC3 observations\n",
    "        normlc = lc.normalize()\n",
    "\n",
    "        normlc.plot()\n",
    "        plt.xlim(t0.value-1,t0.value+3.86)\n",
    "        # plt.xlim(trimmed.time.value.min(),trimmed.time.value.max() )\n",
    "        # plt.ylim(0.99,1.01)\n",
    "        plt.axvline(t0.value,color='darkred',zorder=100)\n",
    "        plt.axvspan(trimmed.time.value.min(),trimmed.time.value.max(),zorder=-500,alpha=0.6)"
   ]
  },
  {
   "cell_type": "code",
   "execution_count": null,
   "id": "859ee331-1242-4e18-bbb5-7124c8578df9",
   "metadata": {},
   "outputs": [],
   "source": [
    "for visit in ['F21','S22']:\n",
    "    \n",
    "    for direction in ['Backward']:\n",
    "\n",
    "        print(visit,direction)\n",
    "        print('')\n",
    "\n",
    "        if visit == 'S22': \n",
    "            n = 133\n",
    "        if visit == 'F21': \n",
    "            n = 86\n",
    "\n",
    "        # Load data tables\n",
    "        visit_data = visits[f'{visit}']\n",
    "\n",
    "        t0 = visit_data['T0 (BJD_TDB)'] * u.day\n",
    "        trimmed = read_rainbow(f'data/{visit}_{direction}_trimmed.rainbow.npy')\n",
    "\n",
    "        lc = search_result[1].download().bin(time_bin_size=0.005)\n",
    "        lc.time = lc.time + 2457000.0 * u.day # Convert from BTJD to BJD\n",
    "        lc.time = lc.time + (n * 4.86 * u.day) # New array which should overlap heavily with the WFC3 observations\n",
    "        normlc = lc#.normalize()\n",
    "        if visit=='F21':\n",
    "            ini = 305\n",
    "            fini = 394\n",
    "        if visit == 'S22':\n",
    "            ini = 321\n",
    "            fini = 410\n",
    "        flux = normlc.flux.value[ini:fini]\n",
    "        err = normlc.flux_err.value[ini:fini]\n",
    "        time = normlc.time.value[ini:fini]\n",
    "        \n",
    "        # If we want to sum flux along the wavelength-axis to generate an integrated 'white light' curve,\n",
    "        # we can try the following:\n",
    "        dw = np.nanmedian(trimmed.wavelength.value[1:]-trimmed.wavelength.value[:-1])\n",
    "        white_light_curve = np.nansum(trimmed.flux*dw, axis=0)\n",
    "        white_light_curve_err = np.sqrt(white_light_curve)\n",
    "\n",
    "        rotation_model = bintogrid(x=time,\n",
    "                                   y=(flux/np.nanmedian(flux)),\n",
    "                                   newx=trimmed.time.value)\n",
    " \n",
    "        ''' Plot '''\n",
    "        plt.figure(figsize=(6,4))\n",
    "        plt.errorbar(trimmed.time.value, white_light_curve/np.nanmedian(white_light_curve),\n",
    "                     yerr=white_light_curve_err/np.nanmedian(white_light_curve), fmt='',label='WFC3 Data')\n",
    "        plt.plot(rotation_model['x'],rotation_model['y'],label='TESS Sector 27')\n",
    "        plt.errorbar(trimmed.time.value, white_light_curve/np.nanmedian(white_light_curve)/rotation_model['y'],\n",
    "                     yerr=(white_light_curve_err/np.nanmedian(white_light_curve))/rotation_model['y'], fmt='',label='WFC3 Data Normalized by stellar rotation')\n",
    "        plt.axvline(t0.value,color='darkred',zorder=100,label='T0')\n",
    "        # plt.axvspan(trimmed.time.value.min(),trimmed.time.value.max(),zorder=-500,alpha=0.6)\n",
    "        plt.legend()\n",
    "        plt.show()\n",
    "        plt.clf()"
   ]
  },
  {
   "cell_type": "markdown",
   "id": "b7d5d6db-e1fb-43d2-862b-43a1b275c961",
   "metadata": {},
   "source": [
    "# Fit a quadratic model to the data, masking the transit"
   ]
  },
  {
   "cell_type": "code",
   "execution_count": null,
   "id": "3b1ce16f-14f9-4607-aa08-a24194a25d5d",
   "metadata": {},
   "outputs": [],
   "source": [
    "from scipy.optimize import curvefit"
   ]
  },
  {
   "cell_type": "code",
   "execution_count": null,
   "id": "315a6ee7-9812-4eef-842e-5b5100b8a669",
   "metadata": {},
   "outputs": [],
   "source": [
    "from lmfit import Model"
   ]
  },
  {
   "cell_type": "code",
   "execution_count": null,
   "id": "9e360c79-7c7c-464f-9145-5c517a940d38",
   "metadata": {},
   "outputs": [],
   "source": [
    "# pre_transit = trimmed.time.value < (t0.value-0.065)\n",
    "# post_transit = trimmed.time.value > (t0.value+0.085)\n",
    "# ok_times = pre_transit+post_transit\n",
    "# x = trimmed.time.value[ok_times]\n",
    "# y = white_light_curve[ok_times]\n",
    "\n",
    "# Define a quadratic function\n",
    "def quadratic_baseline_transit(x, a, b, c):\n",
    "\n",
    "    baseline = a * x**2 + b * x + c\n",
    "    \n",
    "    return transit_model\n",
    "\n",
    "# Create a model based on the quadratic function\n",
    "model = Model(quadratic)\n",
    "\n",
    "# Initialize parameters with guesses\n",
    "params = model.make_params(a=-1, b=1, c=1)\n",
    "\n",
    "# Fit the model to the data\n",
    "result = model.fit(y, params, x=x)"
   ]
  },
  {
   "cell_type": "code",
   "execution_count": null,
   "id": "e5212d3e-ea35-4d59-a781-d362565a7aea",
   "metadata": {},
   "outputs": [],
   "source": [
    "# Print the fitting result\n",
    "print(result.fit_report())\n",
    "\n",
    "# Plot the data and the fit\n",
    "plt.scatter(x, y, label='Data')\n",
    "plt.plot(x, result.best_fit, label='Best Fit', color='red')\n",
    "plt.legend()\n",
    "plt.xlabel('x')\n",
    "plt.ylabel('y')\n",
    "plt.title('Quadratic Fit using lmfit')\n",
    "plt.show()"
   ]
  },
  {
   "cell_type": "code",
   "execution_count": null,
   "id": "c8434b07-d116-4176-abe8-ac4bbc74f257",
   "metadata": {},
   "outputs": [],
   "source": [
    "plt.scatter(x,y/result.best_fit)"
   ]
  },
  {
   "cell_type": "code",
   "execution_count": null,
   "id": "66761bd4-f0bb-4b13-aa9b-77b63f60a2e2",
   "metadata": {},
   "outputs": [],
   "source": []
  }
 ],
 "metadata": {
  "kernelspec": {
   "display_name": "Python 3 (ipykernel)",
   "language": "python",
   "name": "python3"
  },
  "language_info": {
   "codemirror_mode": {
    "name": "ipython",
    "version": 3
   },
   "file_extension": ".py",
   "mimetype": "text/x-python",
   "name": "python",
   "nbconvert_exporter": "python",
   "pygments_lexer": "ipython3",
   "version": "3.10.14"
  }
 },
 "nbformat": 4,
 "nbformat_minor": 5
}
